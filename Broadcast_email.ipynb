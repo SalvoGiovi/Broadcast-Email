{
 "cells": [
  {
   "attachments": {},
   "cell_type": "markdown",
   "metadata": {},
   "source": [
    "### BroadCast Email"
   ]
  },
  {
   "cell_type": "code",
   "execution_count": null,
   "metadata": {},
   "outputs": [],
   "source": [
    "#Create a program that reads from a csv file a list of users, those to whom you want to send an email because \n",
    "#maybe they are loyal. The csv file must contain the customer list with name, surname, e-mail!\n",
    "import csv\n",
    "import smtplib"
   ]
  },
  {
   "cell_type": "code",
   "execution_count": null,
   "metadata": {},
   "outputs": [],
   "source": [
    "FROM = \"xxx@gmail.com\"\n",
    "PASSWORD = 'app pasw from gmail'\n",
    "TO = \"xxx@gmail.com\"\n",
    "\n",
    "OGGETTO = \"TEST\"\n",
    "TEXT = \"This is a simple test\"\n",
    "\n",
    "#First way is to send the email to one customer at a time\n",
    "def send_mail(FROM, TO, OGGETTO, TEXT):\n",
    "    message = f\"From: {FROM}\\nTo: {TO}\\nSubject: {OGGETTO}\\n\\n{TEXT}\"\n",
    "\n",
    "    email = smtplib.SMTP(\"smtp.gmail.com\", 587) #server SMTP per connetterci a Gmail\n",
    "    email.ehlo()    #To connect\n",
    "    email.starttls()    #To start a secret channel\n",
    "    email.login(FROM, PASSWORD) #Login\n",
    "\n",
    "    email.sendmail(FROM, TO, message) #To send the mail\n",
    "\n",
    "    email.quit()    #Break the connection\n",
    "\n",
    "#Second way is to send the email to all the customer in one time. RECOMMENDED BECAUSE FASTER\n",
    "def send_mail_mult(FROM, LISTA_MAIL, OGGETTO, TEXT):\n",
    "    message = f\"From: {FROM}\\nTo: {TO}\\nSubject: {OGGETTO}\\n\\n{TEXT}\"\n",
    "\n",
    "    email = smtplib.SMTP(\"smtp.gmail.com\", 587) \n",
    "    email.ehlo()    \n",
    "    email.starttls()    \n",
    "    email.login(FROM, PASSWORD) \n",
    "\n",
    "    for mail in LISTA_MAIL:   #To many clients\n",
    "       email.sendmail(FROM, mail, message)\n",
    "\n",
    "    email.quit()  "
   ]
  },
  {
   "cell_type": "code",
   "execution_count": null,
   "metadata": {},
   "outputs": [],
   "source": [
    "#INSERTING USERS BY KEYBOARD SPECIFYING THE NUMBER OF USER TO BE REGISTERED\n",
    "def crea_file(n_utenti):\n",
    "    with open('/Users/salvu/Desktop/EserciziPy/utenti.csv', \"a\", newline='') as filecsv:  \n",
    "        writer = csv.writer(filecsv)\n",
    "        utenti={}\n",
    "        writer.writerow([\"Nome\", \"Cognome\", \"Email\"]) #Write name of columns\n",
    "\n",
    "        for i in range(n_utenti):\n",
    "            nome = input(\"Inserisci il nome: \")\n",
    "            cognome = input(\"Inserisci il cognome: \")\n",
    "            email = input(\"Inserisci il email: \")\n",
    "\n",
    "            writer.writerow([nome, cognome, email])\n",
    "        return        \n",
    "    \n",
    "#First Way, read one customer at a time and send the email.\n",
    "def read_and_send():\n",
    "    with open(\"/Users/salvu/Desktop/EserciziPy/utenti.csv\") as csvfile:\n",
    "        reader = csv.DictReader(csvfile, delimiter=\",\") \n",
    "\n",
    "        for row in reader:\n",
    "            email = row[\"Email\"]\n",
    "            send_mail(FROM, email, OGGETTO, TEXT)\n",
    "\n",
    "#Second way, save all emails in a list and later send the message for each mail.\n",
    "#This way is faster because you don’t have to open and close the connection every time.\n",
    "def read_and_send_mult():\n",
    "    with open(\"/Users/salvu/Desktop/EserciziPy/utenti.csv\") as csvfile:\n",
    "        reader = csv.DictReader(csvfile, delimiter=\",\")\n",
    "        lista_mail = []\n",
    "\n",
    "        for row in reader:\n",
    "            lista_mail.append(row[\"Email\"])\n",
    "\n",
    "        send_mail_mult(FROM, lista_mail, OGGETTO, TEXT,)  "
   ]
  },
  {
   "attachments": {},
   "cell_type": "markdown",
   "metadata": {},
   "source": []
  }
 ],
 "metadata": {
  "language_info": {
   "name": "python"
  },
  "orig_nbformat": 4
 },
 "nbformat": 4,
 "nbformat_minor": 2
}
